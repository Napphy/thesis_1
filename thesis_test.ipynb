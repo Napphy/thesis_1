{
 "cells": [
  {
   "cell_type": "code",
   "execution_count": 15,
   "metadata": {},
   "outputs": [],
   "source": [
    "import numpy as np\n",
    "from PIL import Image\n",
    "from sklearn.cluster import KMeans\n",
    "from skimage.color import rgb2gray\n",
    "import os\n",
    "import zipfile as zf\n",
    "from sklearn import svm\n",
    "from sklearn.metrics import accuracy_score\n",
    "from sklearn.model_selection import train_test_split\n",
    "import tensorflow as tf\n",
    "from tensorflow import keras\n",
    "from keras.models import Sequential, Model\n",
    "from keras.layers import Conv2D, MaxPooling2D, Flatten, Dense\n",
    "import tkinter as tkinter\n",
    "from tkinter import filedialog"
   ]
  },
  {
   "cell_type": "code",
   "execution_count": 16,
   "metadata": {},
   "outputs": [
    {
     "ename": "NameError",
     "evalue": "name 'tkinter' is not defined",
     "output_type": "error",
     "traceback": [
      "\u001b[0;31m---------------------------------------------------------------------------\u001b[0m",
      "\u001b[0;31mNameError\u001b[0m                                 Traceback (most recent call last)",
      "Cell \u001b[0;32mIn[16], line 9\u001b[0m\n\u001b[1;32m      6\u001b[0m   \u001b[38;5;28;01mreturn\u001b[39;00m filepath\n\u001b[1;32m      8\u001b[0m \u001b[38;5;66;03m# Get the zip file path using the function\u001b[39;00m\n\u001b[0;32m----> 9\u001b[0m zip_file_path \u001b[38;5;241m=\u001b[39m \u001b[43mget_file_path\u001b[49m\u001b[43m(\u001b[49m\u001b[43m)\u001b[49m\n\u001b[1;32m     11\u001b[0m \u001b[38;5;66;03m# Now you can use the retrieved path to unzip the file using zipfile\u001b[39;00m\n\u001b[1;32m     12\u001b[0m \u001b[38;5;28;01mif\u001b[39;00m zip_file_path:\n",
      "Cell \u001b[0;32mIn[16], line 3\u001b[0m, in \u001b[0;36mget_file_path\u001b[0;34m()\u001b[0m\n\u001b[1;32m      2\u001b[0m \u001b[38;5;28;01mdef\u001b[39;00m \u001b[38;5;21mget_file_path\u001b[39m():\n\u001b[0;32m----> 3\u001b[0m   root \u001b[38;5;241m=\u001b[39m \u001b[43mtkinter\u001b[49m\u001b[38;5;241m.\u001b[39mTk()\n\u001b[1;32m      4\u001b[0m   root\u001b[38;5;241m.\u001b[39mwithdraw()  \u001b[38;5;66;03m# Hide the main window\u001b[39;00m\n\u001b[1;32m      5\u001b[0m   filepath \u001b[38;5;241m=\u001b[39m filedialog\u001b[38;5;241m.\u001b[39maskopenfilename(title\u001b[38;5;241m=\u001b[39m\u001b[38;5;124m\"\u001b[39m\u001b[38;5;124mSelect Zip File\u001b[39m\u001b[38;5;124m\"\u001b[39m, filetypes\u001b[38;5;241m=\u001b[39m[(\u001b[38;5;124m\"\u001b[39m\u001b[38;5;124mZip Files\u001b[39m\u001b[38;5;124m\"\u001b[39m, \u001b[38;5;124m\"\u001b[39m\u001b[38;5;124m*.zip\u001b[39m\u001b[38;5;124m\"\u001b[39m)])\n",
      "\u001b[0;31mNameError\u001b[0m: name 'tkinter' is not defined"
     ]
    }
   ],
   "source": [
    "\n",
    "\n",
    "# Function to open a file selection dialog and return the chosen file path\n",
    "def get_file_path():\n",
    "  root = tkinter.Tk()\n",
    "  root.withdraw()  # Hide the main window\n",
    "  filepath = filedialog.askopenfilename(title=\"Select Zip File\", filetypes=[(\"Zip Files\", \"*.zip\")])\n",
    "  return filepath\n",
    "\n",
    "# Get the zip file path using the function\n",
    "zip_file_path = get_file_path()\n",
    "\n",
    "# Now you can use the retrieved path to unzip the file using zipfile\n",
    "if zip_file_path:\n",
    "  with zf.ZipFile(zip_file_path, 'r') as zip_ref:\n",
    "    zip_ref.extractall()\n"
   ]
  },
  {
   "cell_type": "code",
   "execution_count": 7,
   "metadata": {},
   "outputs": [],
   "source": [
    "def load_images_from_folder(folder, target_size=(256, 256)):\n",
    "  images = []\n",
    "  labels = []\n",
    "  for label in os.listdir(folder):\n",
    "    label_path = os.path.join(folder, label)\n",
    "    if os.path.isdir(label_path):\n",
    "      for filename in os.listdir(label_path):\n",
    "        img_path = os.path.join(label_path, filename)\n",
    "        if img_path.endswith(\".jpg\") or img_path.endswith(\".png\"):\n",
    "          # Open image in grayscale mode\n",
    "          img = Image.open(img_path).convert('L')\n",
    "          # Resize image to a consistent size\n",
    "          img = img.resize(target_size)\n",
    "          # Convert image to numpy array\n",
    "          img_array = np.array(img)\n",
    "          images.append(img_array)\n",
    "          labels.append(label)  # Use folder name as label\n",
    "  return np.array(images), np.array(labels)"
   ]
  }
 ],
 "metadata": {
  "kernelspec": {
   "display_name": "Python 3",
   "language": "python",
   "name": "python3"
  },
  "language_info": {
   "codemirror_mode": {
    "name": "ipython",
    "version": 3
   },
   "file_extension": ".py",
   "mimetype": "text/x-python",
   "name": "python",
   "nbconvert_exporter": "python",
   "pygments_lexer": "ipython3",
   "version": "3.10.12"
  }
 },
 "nbformat": 4,
 "nbformat_minor": 2
}
